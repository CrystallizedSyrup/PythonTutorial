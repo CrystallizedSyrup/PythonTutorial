{
 "cells": [
  {
   "cell_type": "code",
   "execution_count": 48,
   "metadata": {},
   "outputs": [],
   "source": [
    "#Regression Tutorial\n",
    "\n",
    "#Regression -> Take continuous data and figure out the best function for the data.\n",
    "#simple Regression -> Linear Equation (y=mx+b)\n",
    "#Regression -> find y & x. E.g. used on stock market prediction\n",
    "\n",
    "import pandas as pd\n",
    "pd.options.mode.chained_assignment = None  # default='warn'\n",
    "import quandl #function library yang gunanya kayak buat kaggle"
   ]
  },
  {
   "cell_type": "code",
   "execution_count": 49,
   "metadata": {},
   "outputs": [
    {
     "name": "stdout",
     "output_type": "stream",
     "text": [
      "              Open    High     Low    Close      Volume  Ex-Dividend  \\\n",
      "Date                                                                   \n",
      "2004-08-19  100.01  104.06   95.96  100.335  44659000.0          0.0   \n",
      "2004-08-20  101.01  109.08  100.50  108.310  22834300.0          0.0   \n",
      "2004-08-23  110.76  113.48  109.05  109.400  18256100.0          0.0   \n",
      "2004-08-24  111.24  111.60  103.57  104.870  15247300.0          0.0   \n",
      "2004-08-25  104.76  108.00  103.88  106.000   9188600.0          0.0   \n",
      "\n",
      "            Split Ratio  Adj. Open  Adj. High   Adj. Low  Adj. Close  \\\n",
      "Date                                                                   \n",
      "2004-08-19          1.0  50.159839  52.191109  48.128568   50.322842   \n",
      "2004-08-20          1.0  50.661387  54.708881  50.405597   54.322689   \n",
      "2004-08-23          1.0  55.551482  56.915693  54.693835   54.869377   \n",
      "2004-08-24          1.0  55.792225  55.972783  51.945350   52.597363   \n",
      "2004-08-25          1.0  52.542193  54.167209  52.100830   53.164113   \n",
      "\n",
      "            Adj. Volume  \n",
      "Date                     \n",
      "2004-08-19   44659000.0  \n",
      "2004-08-20   22834300.0  \n",
      "2004-08-23   18256100.0  \n",
      "2004-08-24   15247300.0  \n",
      "2004-08-25    9188600.0  \n"
     ]
    }
   ],
   "source": [
    "df = quandl.get('WIKI/GOOGL')\n",
    "print(df.head())\n",
    "\n",
    "#What we want are features that have some things to do with our goal\n",
    "#So many data -> but we do not need all of the data\n",
    "#P.S. -> Adj is when stock is split into two 1000 to two 500."
   ]
  },
  {
   "cell_type": "code",
   "execution_count": 50,
   "metadata": {},
   "outputs": [
    {
     "name": "stdout",
     "output_type": "stream",
     "text": [
      "            Adj. Close    HL_PCT  PCT_change  Adj. Volume\n",
      "Date                                                     \n",
      "2004-08-19   50.322842  3.712563    0.324968   44659000.0\n",
      "2004-08-20   54.322689  0.710922    7.227007   22834300.0\n",
      "2004-08-23   54.869377  3.729433   -1.227880   18256100.0\n",
      "2004-08-24   52.597363  6.417469   -5.726357   15247300.0\n",
      "2004-08-25   53.164113  1.886792    1.183658    9188600.0\n"
     ]
    }
   ],
   "source": [
    "##Grab features\n",
    "\n",
    "df_data = df[['Adj. Open','Adj. High','Adj. Low','Adj. Close','Adj. Volume']]\n",
    "#Margin between high and low tells volatility of the market, Margin between Open&close shows how much stock price increase/decrease\n",
    "#Volume shows how many trade that day\n",
    "#Shows that each collumn has relation with each other\n",
    "\n",
    "#HL_PCT -> High low Percentage\n",
    "\n",
    "df_data['HL_PCT'] = (df_data['Adj. High']-df_data['Adj. Close']) / df_data['Adj. Close']*100\n",
    "df_data['PCT_change'] = (df_data['Adj. Close']-df_data['Adj. Open']) / df_data['Adj. Open']*100\n",
    "\n",
    "df_Regressed = df_data[['Adj. Close','HL_PCT','PCT_change','Adj. Volume']]\n",
    "\n",
    "print(df_Regressed.head()) #Take data that we need only"
   ]
  },
  {
   "cell_type": "code",
   "execution_count": 53,
   "metadata": {},
   "outputs": [
    {
     "name": "stdout",
     "output_type": "stream",
     "text": [
      "            Adj. Close    HL_PCT  PCT_change  Adj. Volume Forecast_date  \\\n",
      "Date                                                                      \n",
      "2004-08-19   50.322842  3.712563    0.324968   44659000.0    2005-12-28   \n",
      "2004-08-20   54.322689  0.710922    7.227007   22834300.0    2005-12-29   \n",
      "2004-08-23   54.869377  3.729433   -1.227880   18256100.0    2005-12-30   \n",
      "2004-08-24   52.597363  6.417469   -5.726357   15247300.0    2006-01-03   \n",
      "2004-08-25   53.164113  1.886792    1.183658    9188600.0    2006-01-04   \n",
      "\n",
      "                 label  \n",
      "Date                    \n",
      "2004-08-19  214.005615  \n",
      "2004-08-20  210.725489  \n",
      "2004-08-23  208.072299  \n",
      "2004-08-24  218.288837  \n",
      "2004-08-25  223.309335  \n"
     ]
    }
   ],
   "source": [
    "import math\n",
    "\n",
    "##Labels. Simplenya feature itu input, label itu outputnya\n",
    "\n",
    "df_Regressed['Forecast_date'] = df_Regressed.index #since Date is index, we need to copy index into a collumn\n",
    "forecast_col = 'Adj. Close'\n",
    "df_Regressed.fillna(-9999, inplace=True) #fill NaN value with -99,999, and inplace True. This is used because machine learning cannot process NaN value.\n",
    "\n",
    "forecast_out = int(math.ceil(0.1*len(df))) #round length of df*x (x in this case is 0.1. This is used to predict x percent from the dataframe. \n",
    "\n",
    "df_Regressed['label'] = df_Regressed[forecast_col].shift(-forecast_out) #so by using this, the data will be shifted to up based on the x value in forecast_out\n",
    "df_Regressed['Forecast_date'].update(df_Regressed['Forecast_date'].shift(-forecast_out)) #so by using this, the data will be shifted to up based on the x value in forecast_out\n",
    "df_Regressed.dropna(inplace=True) #this is done to make sure that no data still have NaN value\n",
    "\n",
    "print (df_Regressed.head()) #note the forecast date is different than the date"
   ]
  },
  {
   "cell_type": "code",
   "execution_count": 68,
   "metadata": {},
   "outputs": [
    {
     "name": "stdout",
     "output_type": "stream",
     "text": [
      "The accuracy is 0.8716704169009442\n",
      "343 days after\n"
     ]
    }
   ],
   "source": [
    "#Define label and pass through classifier\n",
    "\n",
    "df = df_Regressed\n",
    "\n",
    "import numpy as np #will be able use array in py\n",
    "from sklearn import preprocessing #Will use Scaling data -> So feature value will be between -1 & 1 so it can help will accuracy and processing speed.\n",
    "from sklearn.model_selection import train_test_split \n",
    "from sklearn import svm #to do regression and how simple it is on changing the algorithm we are using\n",
    "from sklearn.linear_model import LinearRegression\n",
    "\n",
    "#usually features will be x, labels will be y\n",
    "X = np.array(df.drop(['label','Forecast_date'],1))\n",
    "y = np.array(df['label'])\n",
    "\n",
    "X = preprocessing.scale(X) #Before you can put data through classifier, data needs to be scaled. Scaling is like normalized with other data points. TO get an optimal scaled data, data needs also to be scaled with other value, such as including it with our training data/other values.\n",
    "#disadvantage->adds processing time. Such as in high freq trading, this step is skipped\n",
    "\n",
    "X_train, X_test, y_train, y_test = train_test_split(X, y, test_size=0.2)\n",
    "#=train_test_split will split X&Y into two different data. One used for training, other for testing\n",
    "#Training 80% of the data. The data is shuffled when training (ofc connected X and Y) and testing to get unbiased data\n",
    "\n",
    "#classifier \n",
    "clf = LinearRegression(n_jobs=-1)\n",
    "clf.fit(X_train, y_train) #fit->train\n",
    "accuracy =clf.score(X_test,y_test) #testing buat tau akurasinya. Kenapa dipisah train,test? Train kayak latihan, test kayak ulangan\n",
    "print('The accuracy is', accuracy)\n",
    "print(forecast_out, 'days after')"
   ]
  },
  {
   "cell_type": "code",
   "execution_count": 59,
   "metadata": {},
   "outputs": [
    {
     "name": "stdout",
     "output_type": "stream",
     "text": [
      "The accuracy is 0.7010778300694548\n",
      "343 days after\n"
     ]
    }
   ],
   "source": [
    "#svm -> used to change linear Regression this is done by chaning the classifier\n",
    "\n",
    "clf = svm.SVR()\n",
    "clf.fit(X_train, y_train) #fit->train\n",
    "accuracy =clf.score(X_test,y_test) #testing buat tau akurasinya. Kenapa dipisah train,test? Train kayak latihan, test kayak ulangan\n",
    "print('The accuracy is', accuracy)\n",
    "print(forecast_out, 'days after')"
   ]
  },
  {
   "cell_type": "code",
   "execution_count": 65,
   "metadata": {},
   "outputs": [
    {
     "name": "stdout",
     "output_type": "stream",
     "text": [
      "The accuracy is 0.657727753994015\n",
      "343 days after\n"
     ]
    }
   ],
   "source": [
    "#svm(support vector machine) -> used to change linear Regression this is done by changing the classifier\n",
    "#svm could also be used to change the kernel\n",
    "\n",
    "clf = svm.SVR(kernel='poly')\n",
    "clf.fit(X_train, y_train) #fit->train\n",
    "accuracy =clf.score(X_test,y_test) #testing buat tau akurasinya. Kenapa dipisah train,test? Train kayak latihan, test kayak ulangan\n",
    "print('The accuracy is', accuracy)\n",
    "print(forecast_out, 'days after')\n",
    "\n",
    "#to know what algorithm classifier to use, we need to check the algorithm. E.g. njobs -> shows how many jobs/threads we can run on a given time\n",
    "#In LinearRegression, default is 1, means linear. We could do it paralelly by n_jobs=x (if -1, it will run as many threads as your computer can)"
   ]
  },
  {
   "cell_type": "code",
   "execution_count": null,
   "metadata": {},
   "outputs": [],
   "source": []
  }
 ],
 "metadata": {
  "kernelspec": {
   "display_name": "Python 3",
   "language": "python",
   "name": "python3"
  },
  "language_info": {
   "codemirror_mode": {
    "name": "ipython",
    "version": 3
   },
   "file_extension": ".py",
   "mimetype": "text/x-python",
   "name": "python",
   "nbconvert_exporter": "python",
   "pygments_lexer": "ipython3",
   "version": "3.8.5"
  }
 },
 "nbformat": 4,
 "nbformat_minor": 4
}
