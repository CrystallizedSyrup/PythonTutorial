{
 "cells": [
  {
   "cell_type": "code",
   "execution_count": 1,
   "metadata": {},
   "outputs": [
    {
     "name": "stdout",
     "output_type": "stream",
     "text": [
      "3.8.5\n"
     ]
    }
   ],
   "source": [
    "203\n",
    "\n",
    "from platform import python_version\n",
    "\n",
    "print(python_version())"
   ]
  },
  {
   "cell_type": "code",
   "execution_count": 2,
   "metadata": {},
   "outputs": [
    {
     "ename": "SyntaxError",
     "evalue": "invalid syntax (<ipython-input-2-68dcfb427789>, line 1)",
     "output_type": "error",
     "traceback": [
      "\u001b[1;36m  File \u001b[1;32m\"<ipython-input-2-68dcfb427789>\"\u001b[1;36m, line \u001b[1;32m1\u001b[0m\n\u001b[1;33m    jupyter kernelspec list\u001b[0m\n\u001b[1;37m            ^\u001b[0m\n\u001b[1;31mSyntaxError\u001b[0m\u001b[1;31m:\u001b[0m invalid syntax\n"
     ]
    }
   ],
   "source": [
    "jupyter kernelspec list"
   ]
  },
  {
   "cell_type": "code",
   "execution_count": 71,
   "metadata": {},
   "outputs": [
    {
     "name": "stdout",
     "output_type": "stream",
     "text": [
      "    Brand  Price\n",
      "0   Honda  22000\n",
      "1  Toyota  25000\n",
      "2    Ford  27000\n"
     ]
    }
   ],
   "source": [
    "import pandas as pd #pandas is used for Data Modeling, Analysis, etc\n",
    "\n",
    "cars = { 'Brand': ['Honda','Toyota','Ford'],\n",
    "       'Price': [22000,25000,27000]} #example of certain  dataset about cars\n",
    "\n",
    "cars_df = pd.DataFrame(cars,columns = ['Brand','Price'])\n",
    "#Dataframe = 2-dimensional labeled data structure with columns of potentially different types\n",
    "#Plotting Dataset become 2D data structure/Data Frame. Column name is according to collumn name in the dataset\n",
    "\n",
    "print(cars_df)\n"
   ]
  },
  {
   "cell_type": "code",
   "execution_count": 72,
   "metadata": {},
   "outputs": [
    {
     "name": "stdout",
     "output_type": "stream",
     "text": [
      "        Brand  Price\n",
      "Car 1   Honda  22000\n",
      "car 2  Toyota  25000\n",
      "car 3    Ford  27000\n"
     ]
    }
   ],
   "source": [
    "cars_df = pd.DataFrame(cars,columns = ['Brand','Price'],index=['Car 1','Car 2','Car 3'])\n",
    "#Notice that in above coding the syntax \"index\" is added. This is used to change the name of the row\n",
    "\n",
    "print(cars_df)"
   ]
  },
  {
   "cell_type": "code",
   "execution_count": 73,
   "metadata": {},
   "outputs": [
    {
     "name": "stdout",
     "output_type": "stream",
     "text": [
      "        Brand   Model  Price  Year\n",
      "Car 1   Honda   Civic  22000  2010\n",
      "car 2  Toyota   Prius  25000  2011\n",
      "car 3    Ford  Tomato  27000  2012\n"
     ]
    }
   ],
   "source": [
    "cars_df['Year']=[2010,2011,2012] #adding new Collumn to cars_df without altering cars dataset\n",
    "\n",
    "cars_df.insert(1,'Model',['Civic','Prius','Tomato'],True)\n",
    "#insert is used also to add new Collumn to dataframe (just like the above syntax)\n",
    "#differences = insert allowed us to insert collumn in a specific part, not in last collumn\n",
    "#syntax (name).insert((index[0-xx],(collumn name),(Dataset),(Allow multiple same collumn name?)))\n",
    "#note if we set False, it will not allow us to use the same collumn name, such as Brand or Price\n",
    "\n",
    "print(cars_df)"
   ]
  },
  {
   "cell_type": "code",
   "execution_count": 74,
   "metadata": {},
   "outputs": [
    {
     "name": "stdout",
     "output_type": "stream",
     "text": [
      "        Brand   Model  Price  Year  Discount  Dicounted Price\n",
      "Car 1   Honda   Civic  22000  2010    2200.0          19800.0\n",
      "car 2  Toyota   Prius  25000  2011    2500.0          22500.0\n",
      "car 3    Ford  Tomato  27000  2012    2700.0          24300.0\n"
     ]
    }
   ],
   "source": [
    "\n",
    "cars_df['Discount'] = 0.1*cars_df['Price'] #using collumn data for calculation\n",
    "\n",
    "cars_df['Dicounted Price']=cars_df['Price']-cars_df['Discount']\n",
    "\n",
    "\n",
    "print(cars_df)"
   ]
  },
  {
   "cell_type": "code",
   "execution_count": 76,
   "metadata": {},
   "outputs": [
    {
     "name": "stdout",
     "output_type": "stream",
     "text": [
      "     Brand   Model  Price    Year  Discount  Dicounted Price\n",
      "0    Honda   Civic  22000  2010.0    2200.0          19800.0\n",
      "1   Toyota   Prius  25000  2011.0    2500.0          22500.0\n",
      "2     Ford  Tomato  27000  2012.0    2700.0          24300.0\n",
      "3  Hyundai  Avante  20000     NaN       NaN              NaN\n",
      "4  Hyundai  Avante  20000     NaN       NaN              NaN\n"
     ]
    }
   ],
   "source": [
    "#add new data\n",
    "NewCar = {'Brand':'Hyundai','Model':'Avante','Price':20000,'Year':2032}\n",
    "cars_df = cars_df.append(NewCar,ignore_index=True) \n",
    "#ignore_index is set to true so the Row name could have connection(0,1,2,3).\n",
    "#Error if false due to unknown name index (py no understand string)\n",
    "print(cars_df)\n"
   ]
  },
  {
   "cell_type": "code",
   "execution_count": 78,
   "metadata": {},
   "outputs": [
    {
     "name": "stdout",
     "output_type": "stream",
     "text": [
      "     Brand   Model  Price  Year  Discount  Dicounted Price\n",
      "0    Honda   Civic  22000  2010    2200.0          19800.0\n",
      "1   Toyota   Prius  25000  2011    2500.0          22500.0\n",
      "2     Ford  Tomato  27000  2012    2700.0          24300.0\n",
      "3  Hyundai  Avante  20000  2032    2000.0          18000.0\n"
     ]
    }
   ],
   "source": [
    "#notice Disc and Disc Price is not updated due to data is added after disc calc\n",
    "#put line before disc and disc price\n",
    "\n",
    "cars_df = pd.DataFrame(cars,columns = ['Brand','Price'],index=['Car 1','car 2','car 3'])\n",
    "cars_df['Year']=[2010,2011,2012]\n",
    "cars_df.insert(1,'Model',['Civic','Prius','Tomato'],True)\n",
    "\n",
    "NewCar = {'Brand':'Hyundai','Model':'Avante','Price':20000,'Year':2032}\n",
    "cars_df = cars_df.append(NewCar,ignore_index=True) \n",
    "\n",
    "cars_df['Discount'] = 0.1*cars_df['Price']\n",
    "cars_df['Dicounted Price']=cars_df['Price']-cars_df['Discount']\n",
    "print(cars_df)"
   ]
  },
  {
   "cell_type": "code",
   "execution_count": 86,
   "metadata": {},
   "outputs": [
    {
     "name": "stdout",
     "output_type": "stream",
     "text": [
      "         Brand   Model  Price  Year  Discount  Dicounted Price\n",
      "Car 1    Honda   Civic  22000  2010    2200.0          19800.0\n",
      "car 2   Toyota   Prius  25000  2011    2500.0          22500.0\n",
      "car 3     Ford  Tomato  27000  2012    2700.0          24300.0\n",
      "Car 4  Hyundai  Avante  20000  2032    2000.0          18000.0\n"
     ]
    }
   ],
   "source": [
    "#due to using appendand ignore index, row name resets to index (cars x -> x)\n",
    "#use .loc to resolve this issue\n",
    "\n",
    "cars_df = pd.DataFrame(cars,columns = ['Brand','Price'],index=['Car 1','Car 2','Car 3'])\n",
    "cars_df['Year']=[2010,2011,2012]\n",
    "cars_df.insert(1,'Model',['Civic','Prius','Tomato'],True)\n",
    "\n",
    "cars_df.loc['Car 4'] =  {'Model':'Avante','Brand':'Hyundai','Price':20000,'Year':2032}\n",
    "#by using loc, we can specify row name unlike append\n",
    "#This could be written as -> cars_df.loc['Car 4'] = ['Hyundai','Avante','20000','2032']\n",
    "#However running using that syntax requires the same collumn position name\n",
    "#safer using above method\n",
    "\n",
    "cars_df['Discount'] = 0.1*cars_df['Price']\n",
    "cars_df['Dicounted Price']=cars_df['Price']-cars_df['Discount']\n",
    "print(cars_df)"
   ]
  },
  {
   "cell_type": "code",
   "execution_count": 102,
   "metadata": {},
   "outputs": [
    {
     "name": "stdout",
     "output_type": "stream",
     "text": [
      "         Brand   Model   Price  Year Discount Dicounted Price\n",
      "Car 1    Honda   Civic   22000  2010     2200           19800\n",
      "Car 2   Toyota   Prius   25000  2011     2500           22500\n",
      "Car 3  Hyundai  Avante  999999  2032  99999.9          899999\n",
      "Car 4  Hyundai  Avante   20000  2032     2000           18000\n"
     ]
    }
   ],
   "source": [
    "#due to using appendand ignore index, row name resets to index (cars x -> x)\n",
    "#use .loc to resolve this issue\n",
    "\n",
    "cars_df = pd.DataFrame(cars,columns = ['Brand','Price'],index=['Car 1','Car 2','Car 3'])\n",
    "cars_df['Year']=[2010,2011,2012]\n",
    "cars_df.insert(1,'Model',['Civic','Prius','Tomato'],True)\n",
    "cars_df.loc['Car 4'] =  {'Model':'Avante','Brand':'Hyundai','Price':20000,'Year':2032}\n",
    "\n",
    "#updating data by using Row Name\n",
    "cars_df.loc['Car 3'] = ['Suzuki','Savante','26000','2022']\n",
    "#if updating cannot use the {} syntax\n",
    "#cars_df.loc['Car 3'] = {'Model':'Avante','Brand':'Hyundai','Price':999999,'Year':2032}\n",
    "\n",
    "cars_df['Discount'] = 0.1*cars_df['Price']\n",
    "cars_df['Dicounted Price']=cars_df['Price']-cars_df['Discount']\n",
    "print(cars_df)"
   ]
  },
  {
   "cell_type": "code",
   "execution_count": null,
   "metadata": {},
   "outputs": [],
   "source": []
  }
 ],
 "metadata": {
  "kernelspec": {
   "display_name": "Python 3",
   "language": "python",
   "name": "python3"
  },
  "language_info": {
   "codemirror_mode": {
    "name": "ipython",
    "version": 3
   },
   "file_extension": ".py",
   "mimetype": "text/x-python",
   "name": "python",
   "nbconvert_exporter": "python",
   "pygments_lexer": "ipython3",
   "version": "3.8.5"
  }
 },
 "nbformat": 4,
 "nbformat_minor": 4
}
